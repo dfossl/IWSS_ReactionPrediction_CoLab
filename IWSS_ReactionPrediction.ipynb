{
  "nbformat": 4,
  "nbformat_minor": 0,
  "metadata": {
    "colab": {
      "name": "IWSS_ReactionPrediction.ipynb",
      "provenance": [],
      "collapsed_sections": [],
      "authorship_tag": "ABX9TyN6vyl7O0CaQLIGgSOQNj/S",
      "include_colab_link": true
    },
    "kernelspec": {
      "name": "python3",
      "display_name": "Python 3"
    },
    "language_info": {
      "name": "python"
    }
  },
  "cells": [
    {
      "cell_type": "markdown",
      "metadata": {
        "id": "view-in-github",
        "colab_type": "text"
      },
      "source": [
        "<a href=\"https://colab.research.google.com/github/dfossl/IWSS_ReactionPrediction_CoLab/blob/main/IWSS_ReactionPrediction.ipynb\" target=\"_parent\"><img src=\"https://colab.research.google.com/assets/colab-badge.svg\" alt=\"Open In Colab\"/></a>"
      ]
    },
    {
      "cell_type": "code",
      "execution_count": 1,
      "metadata": {
        "id": "hOM2t6BFaVig",
        "colab": {
          "base_uri": "https://localhost:8080/"
        },
        "outputId": "d83004e0-f3e0-4116-9d39-cadda344c3af"
      },
      "outputs": [
        {
          "output_type": "stream",
          "name": "stdout",
          "text": [
            "testing colab git integration\n"
          ]
        }
      ],
      "source": [
        "print(\"testing colab git integration\")"
      ]
    }
  ]
}